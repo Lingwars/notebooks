{
 "cells": [
  {
   "cell_type": "markdown",
   "metadata": {
    "collapsed": true
   },
   "source": [
    "# Jupyter"
   ]
  },
  {
   "cell_type": "markdown",
   "metadata": {},
   "source": [
    "Jupyter es una aplicación web que permite crear y compartir *cuadernos* que contienen texto, código ejecutable, visualización y ecuaciones. Se convierte así en una herramienta ideal para documentar pequeños programas que sirvan de referencia durante tu aprendizaje del lenguaje de programación Python."
   ]
  },
  {
   "cell_type": "markdown",
   "metadata": {
    "collapsed": true
   },
   "source": [
    "![title](https://notebooks.azure.com/Content/images/landing/jupyter-logo.png)"
   ]
  },
  {
   "cell_type": "markdown",
   "metadata": {},
   "source": [
    "## Markdown"
   ]
  },
  {
   "cell_type": "markdown",
   "metadata": {},
   "source": [
    "El texto se escribe utilizando el lenguaje de marcado [Markdown](https://github.com/adam-p/markdown-here/wiki/Markdown-Cheatsheet), que permite expresar en texto plano (sí, somos amantes del texto plano, el que se abre con Notepad++, ya hemos superado la fase del Word) todas las características de aspecto y contenido que necesitamos y que, además, nos permitiría versionarlo en un sistema de control de version como [Github](https://github.com) (pero esto es otra historia que debe ser contada en otra ocasión)."
   ]
  },
  {
   "cell_type": "markdown",
   "metadata": {
    "collapsed": true
   },
   "source": [
    "Lo importante es que en Markdown podemos escribir muchas cosas, lo principal en la siguiente lista:\n",
    " * código en línea, como `estas palabras`,\n",
    " * énfasis utilizando la *cursiva*,\n",
    " * también en **negrita**"
   ]
  },
  {
   "cell_type": "markdown",
   "metadata": {},
   "source": [
    "Además podemos hacer tablas, insertar imágenes, y un muchas cosas más que podéis consultar en el enlace de más arriba: tablas, títulos, subtítulos, citas, código HTML,..."
   ]
  },
  {
   "cell_type": "markdown",
   "metadata": {},
   "source": [
    "¿Y qué es lo mejor? Que puedes ver cómo está escrito haciendo doble click sobre el texto correspondiente. ¡Prueba! Cambiará el formato, podrás editarlo y después sólo tienes que ejecutar la celda para que se actualice el documento (para ejecutarla puedes utilizar uno de los botones de la barra superior o bien pulsar `mayúsculas` + `ENTER`)."
   ]
  },
  {
   "cell_type": "markdown",
   "metadata": {},
   "source": [
    "## Código fuente"
   ]
  },
  {
   "cell_type": "markdown",
   "metadata": {},
   "source": [
    "Pero lo mejor de todo es que podemos intercarlar texto con código fuente en Python; y esto es ideal para documentar pequeños ejemplos, para explicar los pasos de un experimento,... veamos un ejemplo."
   ]
  },
  {
   "cell_type": "markdown",
   "metadata": {},
   "source": [
    "¿Te acuerdas de cómo funcionaban los bucles en Python? Aquí te dejo un ejemplo:"
   ]
  },
  {
   "cell_type": "code",
   "execution_count": 1,
   "metadata": {},
   "outputs": [
    {
     "name": "stdout",
     "output_type": "stream",
     "text": [
      "Iteración 0\n",
      "Iteración 1\n",
      "Iteración 2\n",
      "Iteración 3\n"
     ]
    }
   ],
   "source": [
    "for i in range(4):\n",
    "    print(\"Iteración {}\".format(i))"
   ]
  },
  {
   "cell_type": "markdown",
   "metadata": {},
   "source": [
    "¡Wow! Prueba a modificarlo y ejecuta de nuevo la celda, ¿has visto? El resultado que hay debajo se actualiza con lo que has puesto."
   ]
  },
  {
   "cell_type": "markdown",
   "metadata": {},
   "source": [
    "# Instalación"
   ]
  },
  {
   "cell_type": "markdown",
   "metadata": {},
   "source": [
    "Si has llegado hasta aquí es porque de alguna manera Jupyter te ha parecido interesante o útil. Esta herramienta la puedes instalar en tu ordenador o bien utilizarla online en algún lugar preparado *ex professo* para ello, como en http://jws.lalengua.es donde hemos instalado (mal) un jupyterhub."
   ]
  },
  {
   "cell_type": "markdown",
   "metadata": {},
   "source": [
    "Aquí y ahora nos vamos a centrar en cómo echarlo a andar en tu propia máquina, es muy fácil:\n",
    "1. Necesitaremos tener Python (preferiblemente la versión 3) instalado en el sistema, ya somos expertos en esto (los usuarios de Windows preferiréis instalar [Anaconda](https://www.continuum.io/downloads)). Si no, podéis encontrar algún tutorial en nuestro blog [[#]](http://lingwars.github.io/blog/) o en cualquier sitio de internet.\n",
    "2. Si has instalado Anaconda, ya tienes todo lo necesario; para los demás tendréis que ejecutar lo siguiente en la terminal (la pantalla negra):\n",
    "```\n",
    "pip3 install jupyter\n",
    "```\n",
    "3. Para ejecutarlo sólo hay que escribir lo siguiente en la terminal:\n",
    "```\n",
    "jupyter notebook\n",
    "```\n",
    "puede que no te encuentre el comando `jupyter`, entonces tendrás que hacer la llamada con el path completo:\n",
    "```\n",
    "# en linux, usualmente:\n",
    "~/.local/bin/jupyter notebook\n",
    "```\n",
    "ten en cuenta que la aplicación se ejecutará en el directorio donde estés situado, y esos serán los archivos que verás... te interesa **moverte a un directorio vacío y ejecutar Jupyter desde allí**.\n",
    "\n",
    "4. Accede a través de tu navegador de internet a la url `http://localhost:8888`, *¡et voilá!*. Recuerda que es una herramienta web, así que hay que entrar en ella con el navegador de internet aunque realmente se esté ejecutando en tu ordenador."
   ]
  },
  {
   "cell_type": "markdown",
   "metadata": {},
   "source": [
    "## A aprender"
   ]
  },
  {
   "cell_type": "markdown",
   "metadata": {},
   "source": [
    "La mejor forma de aprender Jupyter es cacharreando con él. ¿De qué sirve que te digamos que existen celdas, que puedes descargárteo como pdf, que este botón está aquí y el otro allá? ¿Para qué la teoría si tienes tu propio Jupyter funcionando en tu ordenador y puedes cacharrear con él todo lo que quieras? ¡Adelante, tú tienes el control!"
   ]
  },
  {
   "cell_type": "markdown",
   "metadata": {},
   "source": [
    "Puedes encontrar cientos de ejemplos en google buscando \"python notebook\" o \"jupyter examples\" y, si le añades algo que sea de tu interés, seguro que encuentras muchísimos archivos `.ipynb` que podrás cargar en tu Jupyter (o en el nuestro cuando consigamos que funcione bien)."
   ]
  },
  {
   "cell_type": "code",
   "execution_count": null,
   "metadata": {
    "collapsed": true
   },
   "outputs": [],
   "source": []
  }
 ],
 "metadata": {
  "kernelspec": {
   "display_name": "Python 3",
   "language": "python",
   "name": "python3"
  },
  "language_info": {
   "codemirror_mode": {
    "name": "ipython",
    "version": 3
   },
   "file_extension": ".py",
   "mimetype": "text/x-python",
   "name": "python",
   "nbconvert_exporter": "python",
   "pygments_lexer": "ipython3",
   "version": "3.4.3"
  },
  "widgets": {
   "state": {},
   "version": "1.1.2"
  }
 },
 "nbformat": 4,
 "nbformat_minor": 1
}
