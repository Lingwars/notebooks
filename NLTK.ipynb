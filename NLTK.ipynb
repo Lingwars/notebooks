{
 "cells": [
  {
   "cell_type": "markdown",
   "metadata": {},
   "source": [
    "# NLTK"
   ]
  },
  {
   "cell_type": "markdown",
   "metadata": {},
   "source": [
    "La librería *Natural Language Toolkit* es un paquete de Python enfocado principalmente al trabajo con textos y con lenguaje natural. En este cuaderno vamos a realizar el *aeiou* de procesamiento de lenguaje natural, esperamos que sea lo suficiente como para que se os quite el miedo y os atreváis a hacer vuestros propios programillas."
   ]
  },
  {
   "cell_type": "markdown",
   "metadata": {},
   "source": [
    "NLTK viene del mundo anglosajón, así que dispone de muchos más recursos para inglés que para otros lenguajes; probablemente tampoco sea la librería más potente de procesamiento de lenguaje de natural, pero en cualquier caso, nos servirá para introducirnos en este apasionante mundo dada su sencillez y facilidad de uso."
   ]
  },
  {
   "cell_type": "markdown",
   "metadata": {},
   "source": [
    "De aquí en adelante, siempre tendremos que importar la cabecera `nltk`:"
   ]
  },
  {
   "cell_type": "code",
   "execution_count": 6,
   "metadata": {
    "collapsed": true
   },
   "outputs": [],
   "source": [
    "import nltk"
   ]
  },
  {
   "cell_type": "markdown",
   "metadata": {},
   "source": [
    "## Ejemplos básicos"
   ]
  },
  {
   "cell_type": "markdown",
   "metadata": {},
   "source": [
    "Utilicemos un texto en inglés:"
   ]
  },
  {
   "cell_type": "code",
   "execution_count": 4,
   "metadata": {
    "collapsed": true
   },
   "outputs": [],
   "source": [
    "texto1 = \"At eight o'clock on Thursday morning Arthur didn't feel very good.\"  # Puedes cambiarlo si quieres"
   ]
  },
  {
   "cell_type": "markdown",
   "metadata": {},
   "source": [
    "## Tokenizar"
   ]
  },
  {
   "cell_type": "markdown",
   "metadata": {},
   "source": [
    "¿Qué es lo primero que se hace siempre? Separar por palabras, lo que conocemos como *tokenizar*, veámoslo en acción:"
   ]
  },
  {
   "cell_type": "code",
   "execution_count": 10,
   "metadata": {
    "collapsed": false
   },
   "outputs": [
    {
     "name": "stdout",
     "output_type": "stream",
     "text": [
      "Oración original: At eight o'clock on Thursday morning Arthur didn't feel very good.\n",
      "Lista de palabras: ['At', 'eight', \"o'clock\", 'on', 'Thursday', 'morning', 'Arthur', 'did', \"n't\", 'feel', 'very', 'good', '.']\n"
     ]
    }
   ],
   "source": [
    "tokens = nltk.word_tokenize(texto1)\n",
    "print(\"Oración original: {}\".format(texto1))\n",
    "print(\"Lista de palabras: {}\".format(tokens))"
   ]
  },
  {
   "cell_type": "markdown",
   "metadata": {},
   "source": [
    "## Part of speech tagging"
   ]
  },
  {
   "cell_type": "markdown",
   "metadata": {},
   "source": [
    "O lo que es lo mismo, el análisis sintáctico, qué función cumple cada palabra en la oración"
   ]
  },
  {
   "cell_type": "code",
   "execution_count": 17,
   "metadata": {
    "collapsed": false
   },
   "outputs": [
    {
     "name": "stdout",
     "output_type": "stream",
     "text": [
      "('At', 'IN')\n",
      "('eight', 'CD')\n",
      "(\"o'clock\", 'NN')\n",
      "('on', 'IN')\n",
      "('Thursday', 'NNP')\n",
      "('morning', 'NN')\n",
      "('Arthur', 'NNP')\n",
      "('did', 'VBD')\n",
      "(\"n't\", 'RB')\n",
      "('feel', 'VB')\n",
      "('very', 'RB')\n",
      "('good', 'JJ')\n",
      "('.', '.')\n"
     ]
    }
   ],
   "source": [
    "tagged = nltk.pos_tag(tokens)\n",
    "for t in tagged:\n",
    "    print(t)"
   ]
  },
  {
   "cell_type": "markdown",
   "metadata": {},
   "source": [
    "Cada palabra ha sido etiquetada con su categoría gramatical según el *Penn Treebank project*, [aquí](https://www.ling.upenn.edu/courses/Fall_2003/ling001/penn_treebank_pos.html) puedes consultar la lista completa de la que traemos esta selección:"
   ]
  },
  {
   "cell_type": "markdown",
   "metadata": {},
   "source": [
    "| Tag | Description |\n",
    "|-----|-------------|\n",
    "| IN  | Preposition or subordinating conjunction |\n",
    "| CD  | Cardinal number |\n",
    "| NNP | Proper noun, singular |\n",
    "| NN  | Noun, singular or mass |\n",
    "| VBD | Verb, past tense |\n",
    "| RB  | Adverb |\n",
    "| VB  | Verb, base form |\n",
    "| JJ  | Adjective |"
   ]
  },
  {
   "cell_type": "code",
   "execution_count": 21,
   "metadata": {
    "collapsed": false
   },
   "outputs": [
    {
     "name": "stdout",
     "output_type": "stream",
     "text": [
      "[('At', 'IN'), ('eight', 'CD'), (\"o'clock\", 'NN'), ('on', 'IN'), ('Thursday', 'NNP'), ('morning', 'NN'), ('Arthur', 'NNP'), ('did', 'VBD'), (\"n't\", 'RB'), ('feel', 'VB'), ('very', 'RB'), ('good', 'JJ'), ('.', '.')]\n"
     ]
    }
   ],
   "source": [
    "print(tagged)"
   ]
  },
  {
   "cell_type": "markdown",
   "metadata": {},
   "source": [
    "¿Ha acertado muchas? ¿Ves muchos fallos?"
   ]
  },
  {
   "cell_type": "markdown",
   "metadata": {},
   "source": [
    "## Named entity recognition"
   ]
  },
  {
   "cell_type": "markdown",
   "metadata": {},
   "source": [
    "A partir de las palabras, una vez troceadas y etiquetadas, NLTK puede intentar encontrar cuáles de los sustantivos pertenecen a lugares, personas u organizaciones:"
   ]
  },
  {
   "cell_type": "code",
   "execution_count": 25,
   "metadata": {
    "collapsed": false
   },
   "outputs": [
    {
     "name": "stdout",
     "output_type": "stream",
     "text": [
      "('At', 'IN')\n",
      "('eight', 'CD')\n",
      "(\"o'clock\", 'NN')\n",
      "('on', 'IN')\n",
      "('Thursday', 'NNP')\n",
      "('morning', 'NN')\n",
      "(PERSON Arthur/NNP)\n",
      "('did', 'VBD')\n",
      "(\"n't\", 'RB')\n",
      "('feel', 'VB')\n",
      "('very', 'RB')\n",
      "('good', 'JJ')\n",
      "('.', '.')\n"
     ]
    }
   ],
   "source": [
    "entities = nltk.chunk.ne_chunk(tagged)\n",
    "for entity in entities:\n",
    "    print(entity)"
   ]
  },
  {
   "cell_type": "markdown",
   "metadata": {},
   "source": [
    "¿Había algún nombre propio?"
   ]
  },
  {
   "cell_type": "markdown",
   "metadata": {},
   "source": [
    "Y esto han sido ejemplos muy básicos de lo que se puede hacer con NLTK, no hemos hecho más que rascar la superficie. El objetivo es ver que dentro de Jupyter podemos ejecutar esta librería y comentar cada uno de los pasos de tal forma que cualquiera que llegue a este cuaderno entienda qué estamos haciendo en cada paso."
   ]
  },
  {
   "cell_type": "markdown",
   "metadata": {},
   "source": [
    "## Mini-ejercicio"
   ]
  },
  {
   "cell_type": "markdown",
   "metadata": {},
   "source": [
    "Prueba a modificar el texto que se utiliza en este cuaderno y a ejecutarlo de nuevo. Quizá algunos textos no encajen, pero el código se actualiza, a que parece bastante útil. La línea que tienes que modificar es el primer trozo de código, en el que aparecía esto:"
   ]
  },
  {
   "cell_type": "markdown",
   "metadata": {},
   "source": [
    "```python\n",
    "texto1 = \"At eight o'clock on Thursday morning Arthur didn't feel very good.\"\n",
    "```"
   ]
  },
  {
   "cell_type": "code",
   "execution_count": null,
   "metadata": {
    "collapsed": true
   },
   "outputs": [],
   "source": []
  }
 ],
 "metadata": {
  "kernelspec": {
   "display_name": "Python 3",
   "language": "python",
   "name": "python3"
  },
  "language_info": {
   "codemirror_mode": {
    "name": "ipython",
    "version": 3
   },
   "file_extension": ".py",
   "mimetype": "text/x-python",
   "name": "python",
   "nbconvert_exporter": "python",
   "pygments_lexer": "ipython3",
   "version": "3.4.3"
  },
  "widgets": {
   "state": {},
   "version": "1.1.2"
  }
 },
 "nbformat": 4,
 "nbformat_minor": 0
}
